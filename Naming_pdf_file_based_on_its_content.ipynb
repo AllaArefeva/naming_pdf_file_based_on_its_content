{
  "nbformat": 4,
  "nbformat_minor": 0,
  "metadata": {
    "colab": {
      "provenance": []
    },
    "kernelspec": {
      "name": "python3",
      "display_name": "Python 3"
    },
    "language_info": {
      "name": "python"
    }
  },
  "cells": [
    {
      "cell_type": "code",
      "source": [
        "!pip install PyPDF2"
      ],
      "metadata": {
        "colab": {
          "base_uri": "https://localhost:8080/"
        },
        "id": "0O9ZE9XIPOvZ",
        "outputId": "c4ea3615-5a21-4ae7-c737-eb1547cddfb9"
      },
      "execution_count": null,
      "outputs": [
        {
          "output_type": "stream",
          "name": "stdout",
          "text": [
            "Collecting PyPDF2\n",
            "  Downloading pypdf2-3.0.1-py3-none-any.whl.metadata (6.8 kB)\n",
            "Downloading pypdf2-3.0.1-py3-none-any.whl (232 kB)\n",
            "\u001b[?25l   \u001b[90m━━━━━━━━━━━━━━━━━━━━━━━━━━━━━━━━━━━━━━━━\u001b[0m \u001b[32m0.0/232.6 kB\u001b[0m \u001b[31m?\u001b[0m eta \u001b[36m-:--:--\u001b[0m\r\u001b[2K   \u001b[91m━━━━━━━━━━━━━━━━━━━\u001b[0m\u001b[90m╺\u001b[0m\u001b[90m━━━━━━━━━━━━━━━━━━━━\u001b[0m \u001b[32m112.6/232.6 kB\u001b[0m \u001b[31m3.1 MB/s\u001b[0m eta \u001b[36m0:00:01\u001b[0m\r\u001b[2K   \u001b[90m━━━━━━━━━━━━━━━━━━━━━━━━━━━━━━━━━━━━━━━━\u001b[0m \u001b[32m232.6/232.6 kB\u001b[0m \u001b[31m3.8 MB/s\u001b[0m eta \u001b[36m0:00:00\u001b[0m\n",
            "\u001b[?25hInstalling collected packages: PyPDF2\n",
            "Successfully installed PyPDF2-3.0.1\n"
          ]
        }
      ]
    },
    {
      "cell_type": "code",
      "execution_count": null,
      "metadata": {
        "id": "Nn9PEku7OfSn"
      },
      "outputs": [],
      "source": [
        "import os\n",
        "import google.generativeai as genai\n",
        "import requests\n",
        "from PyPDF2 import PdfReader\n",
        "import shutil\n",
        "import time\n",
        "from functools import wraps\n",
        "from google.api_core.exceptions import ResourceExhausted"
      ]
    },
    {
      "cell_type": "code",
      "source": [
        "FOLDER_NAME = './input'\n",
        "\n",
        "# Set your Gemini API key\n",
        "GOOGLE_API_KEY=''\n",
        "\n",
        "genai.configure(api_key=GOOGLE_API_KEY)\n",
        "model = genai.GenerativeModel('gemini-1.5-pro-latest')\n"
      ],
      "metadata": {
        "id": "ta4B6ydUPKRc"
      },
      "execution_count": null,
      "outputs": []
    },
    {
      "cell_type": "code",
      "source": [
        "def retry_on_resource_exhausted(max_retries=5, base_delay=1.0, backoff_factor=2):\n",
        "    \"\"\"\n",
        "    Decorator that retries a function if ResourceExhausted error is raised.\n",
        "    It uses an exponential backoff strategy to wait between retries.\n",
        "\n",
        "    :param max_retries: Maximum number of retries before giving up.\n",
        "    :param base_delay: Initial delay between retries in seconds.\n",
        "    :param backoff_factor: Multiplier by which to increase the delay each retry.\n",
        "    \"\"\"\n",
        "    def decorator(func):\n",
        "        @wraps(func)\n",
        "        def wrapper(*args, **kwargs):\n",
        "            delay = base_delay\n",
        "            for attempt in range(max_retries):\n",
        "                try:\n",
        "                    return func(*args, **kwargs)\n",
        "                except ResourceExhausted as e:\n",
        "                    if attempt == max_retries - 1:\n",
        "                        raise  # Re-raise the last exception if max retries are exceeded\n",
        "                    print(f\"Resource exhausted, retrying in {delay} seconds...\")\n",
        "                    time.sleep(delay)\n",
        "                    delay *= backoff_factor\n",
        "        return wrapper\n",
        "    return decorator"
      ],
      "metadata": {
        "id": "D2noa1idRew6"
      },
      "execution_count": null,
      "outputs": []
    },
    {
      "cell_type": "code",
      "source": [
        "def extract_text_from_pdf(file_path):\n",
        "    reader = PdfReader(file_path)\n",
        "    text = \"\"\n",
        "    for page in reader.pages:\n",
        "        text += page.extract_text()\n",
        "    return text"
      ],
      "metadata": {
        "id": "m-__P3NTSEhJ"
      },
      "execution_count": null,
      "outputs": []
    },
    {
      "cell_type": "code",
      "source": [
        "@retry_on_resource_exhausted(max_retries=5, base_delay=20, backoff_factor=1.5)\n",
        "def ask_question_about_text(text, question):\n",
        "    response = model.generate_content(\"You are a helpful assistant. \" + text + \"\\n\" + question)\n",
        "    try:\n",
        "        return response.text\n",
        "    except:\n",
        "        print('Failed response %s' % response)\n",
        "        return ''"
      ],
      "metadata": {
        "id": "aVGzad45SL7W"
      },
      "execution_count": null,
      "outputs": []
    },
    {
      "cell_type": "code",
      "source": [
        "def get_check_name(pdf_file_path):\n",
        "    question = '''\n",
        "    Instructions:\n",
        "        Using next information identify date of document, company (who sent it, if unable to identify - assume 'unknown') and summary of document in a few words and as answer return it in format: yyyy-mm-dd-{company-readable-name}-{summary}.pdf\n",
        "        If you can identify day or month - assume '00', if you cant identify year - assume '0000'.\n",
        "        This will be a file name so do not put characters that can not be in file name. Split words with -.\n",
        "        The information with some typos. Please identify and correct them. Remember to maintain the original meaning of the text, only correcting spelling mistakes.\n",
        "        As the response - return filename only (even if you assumed as instructed), no additional explanations. If you unable to return file name - explain why.\n",
        "    '''\n",
        "    # Extract text from PDF\n",
        "    pdf_text = extract_text_from_pdf(pdf_file_path)\n",
        "\n",
        "    # Ask a question about the extracted text\n",
        "    answer = ask_question_about_text(pdf_text[:1000], question)\n",
        "    return answer.strip()"
      ],
      "metadata": {
        "id": "JDOFvGMtSR4Z"
      },
      "execution_count": null,
      "outputs": []
    },
    {
      "cell_type": "code",
      "source": [
        "def get_input_pdf_names(folder):\n",
        "\n",
        "    # List all files in the specified directory\n",
        "    all_files = os.listdir(folder)\n",
        "\n",
        "    # Filter out files with a .pdf extension\n",
        "    pdf_files = [file for file in all_files if file.lower().endswith('.pdf')]\n",
        "\n",
        "    # Return the list of PDF files\n",
        "    return pdf_files"
      ],
      "metadata": {
        "id": "lfzTUWL-S9_H"
      },
      "execution_count": null,
      "outputs": []
    },
    {
      "cell_type": "code",
      "source": [
        "def move_file_with_unique_name(source, destination):\n",
        "    # Check if the destination file exists\n",
        "    if not os.path.exists(destination):\n",
        "        # If it doesn't exist, move the file\n",
        "        shutil.move(source, destination)\n",
        "        print(f\"File moved to {destination}\")\n",
        "    else:\n",
        "        # If the file exists, find a new file name\n",
        "        base, extension = os.path.splitext(destination)\n",
        "        counter = 1\n",
        "        new_destination = f\"{base}-{counter}{extension}\"\n",
        "        # Increment the counter until the file does not exist\n",
        "        while os.path.exists(new_destination):\n",
        "            counter += 1\n",
        "            new_destination = f\"{base}-{counter}{extension}\"\n",
        "\n",
        "        # Move the file to the new destination\n",
        "        shutil.move(source, new_destination)\n",
        "        print(f\"File moved to {new_destination}\")"
      ],
      "metadata": {
        "id": "wlE5oggBTGcn"
      },
      "execution_count": null,
      "outputs": []
    },
    {
      "cell_type": "code",
      "source": [
        "def main():\n",
        "    for pdf_file in get_input_pdf_names('./input/'):\n",
        "        check_file_name = get_check_name('./input/%s' % pdf_file)\n",
        "        print(pdf_file)\n",
        "        print(check_file_name)\n",
        "        if not check_file_name.endswith('.pdf') or len(check_file_name) > 160:\n",
        "            move_file_with_unique_name('./input/%s' % pdf_file, './unable_to_scan/%s' % pdf_file)\n",
        "            print ('Unable to scan requested file: %s got %s' % (pdf_file, check_file_name))\n",
        "        else:\n",
        "          move_file_with_unique_name('./input/%s' % pdf_file, './output/%s' % check_file_name)\n",
        "        print(\"\")"
      ],
      "metadata": {
        "id": "nXjRaD6XTf0y"
      },
      "execution_count": null,
      "outputs": []
    },
    {
      "cell_type": "code",
      "source": [
        "main()"
      ],
      "metadata": {
        "colab": {
          "base_uri": "https://localhost:8080/",
          "height": 88
        },
        "id": "t8GW_wJRTrX1",
        "outputId": "acaa36d4-8ded-4f78-b9a7-f392967531d4"
      },
      "execution_count": null,
      "outputs": [
        {
          "output_type": "stream",
          "name": "stdout",
          "text": [
            "123_test_for_grmini.pdf\n",
            "2024-09-25-Spectrum-Account-Statement.pdf\n",
            "File moved to ./output/2024-09-25-Spectrum-Account-Statement.pdf\n",
            "\n"
          ]
        }
      ]
    }
  ]
}